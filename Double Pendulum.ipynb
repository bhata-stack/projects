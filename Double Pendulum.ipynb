{
 "cells": [
  {
   "cell_type": "code",
   "execution_count": 4,
   "metadata": {},
   "outputs": [],
   "source": [
    "import numpy as np\n",
    "from scipy.integrate import odeint\n",
    "\n",
    "import matplotlib.animation as anim\n",
    "import matplotlib.pyplot as plt\n",
    "from matplotlib.patches import Circle"
   ]
  },
  {
   "cell_type": "markdown",
   "metadata": {},
   "source": [
    "## Set the initial parameters for the double pendulum:\n",
    "\n",
    "theta1 and theta2 are $\\theta_1$ and $\\theta_2$ respectively, and v1 and v2 are $\\dot{\\theta}_1$ and $\\dot{\\theta}_2$ respectively. \n",
    "\n",
    "The masses and lengths can also be set."
   ]
  },
  {
   "cell_type": "code",
   "execution_count": 41,
   "metadata": {},
   "outputs": [],
   "source": [
    "theta1, theta2 = np.pi/4, np.pi/3\n",
    "v1, v2 = 0, 0\n",
    "\n",
    "l1, l2 = 1, 1\n",
    "m1, m2 = 1, 2\n",
    "g = 9.81"
   ]
  },
  {
   "cell_type": "markdown",
   "metadata": {},
   "source": [
    "### Main code"
   ]
  },
  {
   "cell_type": "code",
   "execution_count": 33,
   "metadata": {},
   "outputs": [],
   "source": [
    "def derive(state, t, l1, l2, m1, m2):\n",
    "\n",
    "    theta1, v1, theta2, v2 = state\n",
    "    cos_theta, sin_theta = np.cos(theta1 - theta2), np.sin(theta1 - theta2)\n",
    "    deriv_theta1, deriv_theta2 = v1, v2\n",
    "\n",
    "    deriv_v1 = m2*g*np.sin(theta2)*cos_theta \n",
    "    deriv_v1 -= m2*sin_theta*(l1*v1**2*cos_theta + l2*v2**2)\n",
    "    deriv_v1 -= (m1 + m2)*g*np.sin(theta1)\n",
    "    deriv_v1 /= l1*(m1 + m2*sin_theta**2)\n",
    "\n",
    "    deriv_v2 = (m1 + m2)*(l1*v1**2*sin_theta - g*np.sin(theta2) + g*np.sin(theta1)*cos_theta)\n",
    "    deriv_v2 += m2*l2*v2**2*sin_theta*cos_theta\n",
    "    deriv_v2 /= l2*(m1 + m2*sin_theta**2)\n",
    "\n",
    "    return deriv_theta1, deriv_v1, deriv_theta2, deriv_v2\n",
    "\n",
    "def E_state(state):\n",
    "    theta1, v1, theta2, v2 = state.T\n",
    "    potential = -(m1 + m2)*l1*g*np.cos(theta1) - m2*l2*g*np.cos(theta2)\n",
    "    kinetic = 0.5*m1*(l1*v1)**2 + 0.5*m2*((l1*v1)**2 + (l2*v2)**2 + 2*l1*l2*v1*v2*np.cos(theta1-theta2))\n",
    "    return potential, kinetic\n",
    "\n"
   ]
  },
  {
   "cell_type": "code",
   "execution_count": 49,
   "metadata": {},
   "outputs": [
    {
     "data": {
      "image/png": "[encoded data removed]",
      "text/plain": [
       "<Figure size 432x288 with 1 Axes>"
      ]
     },
     "metadata": {
      "needs_background": "light"
     },
     "output_type": "display_data"
    }
   ],
   "source": [
    "t = np.arange(0, 50 + 0.01, 0.01)\n",
    "theta_0 = np.array([theta1, v1, theta2, v2])\n",
    "\n",
    "theta = odeint(derive, theta_0, t, args = (l1, l2, m1, m2))\n",
    "\n",
    "theta_1, theta_2 = theta[:, 0], theta[:, 2]\n",
    "\n",
    "x1, y1 = l1 * np.sin(theta_1), -l1*np.cos(theta_1)\n",
    "x2 = x1 + l2*np.sin(theta_2)\n",
    "y2 = y1 - l2*np.cos(theta_2)\n",
    "\n",
    "\n",
    "#Make a plot for a given time t\n",
    "\n",
    "def make_plot(t):\n",
    "    ax.plot([0, x1[t], x2[t]], [0, y1[t], y2[t]], lw = 2, c = 'k')\n",
    "\n",
    "    c_rotation = Circle((0, 0), 0.02, fc = 'k', zorder = 3)\n",
    "    c1 = Circle((x1[t], y1[t]), 0.05, fc = 'r', zorder = 3)\n",
    "    c2 = Circle((x2[t], y2[t]), 0.05, fc = 'b', zorder = 3)\n",
    "    ax.add_patch(c_rotation)\n",
    "    ax.add_patch(c1)\n",
    "    ax.add_patch(c2)\n",
    "\n",
    "    ax.set_xlim(-l1-l2-0.05, l1+l2+0.05)\n",
    "    ax.set_ylim(-l1-l2-0.05, l1+l2+0.05)\n",
    "    ax.set_aspect('equal', adjustable='box')\n",
    "    plt.axis('off')\n",
    "    plt.cla()\n",
    "\n",
    "\n",
    "\n",
    "fig = plt.figure()\n",
    "ax = fig.add_subplot(111)\n",
    "\n",
    "animation = anim.FuncAnimation(fig, make_plot)\n",
    "plt.show()\n"
   ]
  }
 ],
 "metadata": {
  "interpreter": {
   "hash": "44c427b66f57772bdc584c69231224670aeb8b66ed9d87efb2c71e0d3f0b948d"
  },
  "kernelspec": {
   "display_name": "Python 3.8.3 ('base')",
   "language": "python",
   "name": "python3"
  },
  "language_info": {
   "codemirror_mode": {
    "name": "ipython",
    "version": 3
   },
   "file_extension": ".py",
   "mimetype": "text/x-python",
   "name": "python",
   "nbconvert_exporter": "python",
   "pygments_lexer": "ipython3",
   "version": "3.8.3"
  },
  "orig_nbformat": 4
 },
 "nbformat": 4,
 "nbformat_minor": 2
}
