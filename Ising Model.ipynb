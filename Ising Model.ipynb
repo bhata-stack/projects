{
 "cells": [
  {
   "cell_type": "code",
   "execution_count": 1,
   "metadata": {},
   "outputs": [],
   "source": [
    "import numpy as np\n",
    "import matplotlib.pyplot as plt\n",
    "import time"
   ]
  },
  {
   "cell_type": "markdown",
   "metadata": {},
   "source": [
    "### Simulating the 2D Ising model for an $N^2$ particle system,  assuming ferromagnetic order with $J = 1$."
   ]
  },
  {
   "cell_type": "code",
   "execution_count": 6,
   "metadata": {},
   "outputs": [],
   "source": [
    "# Function to initialize spin array\n",
    "\n",
    "def spin_init(N, cold = False):\n",
    "    if cold:\n",
    "        state = np.indices((N, N)).sum(axis=0) % 2\n",
    "        state = np.vectorize(lambda x: int(2 * (x - 0.5)))(state)\n",
    "    else:\n",
    "        state = 2*np.random.randint(2, size = (4, 4))-1\n",
    "    return state\n",
    "\n",
    "# Function to run a Monte-Carlo move using the Metropolis algorithm with a given temperature\n",
    "\n",
    "def rand_spin(state, T):\n",
    "    N = len(state)\n",
    "    \n",
    "    for i in range(N):\n",
    "        for j in range(N):\n",
    "            a, b = np.random.randint(0, N, size = (2, 1))\n",
    "            spin = state[a, b]\n",
    "            nb = state[(i + 1)%N, j] + state[(i-1)%N, j]     #Using periodic condition\n",
    "            nb += state[i, (j + 1)%N] + state[i, (j-1)%N]\n",
    "            del_E = 2 * spin * nb\n",
    "            \n",
    "            if del_E < 0:\n",
    "                spin *= -1\n",
    "            elif np.random.rand() < np.exp(-del_E / T):\n",
    "                spin *= -1\n",
    "            state[a, b] = spin\n",
    "    return state\n",
    "    \n",
    "    \n",
    "\n",
    "# Function to calculate energy of a given state\n",
    "\n",
    "def E_state(state, J = 1, B = 0):\n",
    "    energy = 0\n",
    "    N = len(state)\n",
    "    for i in range(N):\n",
    "        for j in range(N):\n",
    "            s = state[i, j]\n",
    "            nb = state[(i + 1)%N, j] + state[(i-1)%N, j]     #Using periodic condition\n",
    "            nb += state[i, (j + 1)%N] + state[i, (j-1)%N]\n",
    "            energy += -nb * s\n",
    "    energy *= 0.5*J\n",
    "    energy += -B * np.sum(state)\n",
    "    return energy\n",
    "\n",
    "# Plot a given state\n",
    "\n",
    "def plot_state(state, fig, time, pos):\n",
    "    N = len(state)\n",
    "    x, y = np.meshgrid(range(N), range(N))\n",
    "    sub_plot = fig.add_subplot(3, 3, pos)\n",
    "    plt.setp(sub_plot.get_yticklabels(), visible=False)\n",
    "    plt.setp(sub_plot.get_xticklabels(), visible=False)      \n",
    "    plt.pcolormesh(x, y, state, cmap=plt.cm.BuGn);\n",
    "    plt.title('Time=%d'%time); plt.axis('tight')  \n",
    "\n",
    "\n",
    "def ising_spin(init_state, num_iter, T):\n",
    "    \n",
    "    N = len(init_state)\n",
    "    state = init_state.copy()\n",
    "    \n",
    "    fig = plt.figure(figsize = (15, 15))\n",
    "    plot_state(state, fig, 0, 1)\n",
    "    key_times = [int(i) for i in np.logspace(0, np.log10(num_iter-1), 5)]\n",
    "    \n",
    "    for i in range(num_iter):\n",
    "        rand_spin(state, T)\n",
    "        if i == key_times[0]:\n",
    "            plot_state(state, fig, i, 2)\n",
    "        if i == key_times[1]:\n",
    "            plot_state(state, fig, i, 3)\n",
    "        if i == key_times[2]:\n",
    "            plot_state(state, fig, i, 4)\n",
    "        if i == key_times[3]:\n",
    "            plot_state(state, fig, i, 5)\n",
    "        if i == key_times[4]:\n",
    "            plot_state(state, fig, i, 6)\n",
    "    plt.show()\n",
    "    \n",
    "    \n",
    "# Given an initial state and temperature array, finds the energy and magnetization arrays\n",
    "\n",
    "def met_spin(init_state, num_iter, T, eq = 2**8, mc = 2**9):\n",
    "\n",
    "    N = len(init_state)\n",
    "    \n",
    "    E = np.zeros(len(T))\n",
    "    M = np.zeros(len(T))\n",
    "    \n",
    "    for i in range(len(T)):\n",
    "        current_state = init_state.copy()       \n",
    "        current_E = current_M = 0\n",
    "        temp = T[i]\n",
    "        \n",
    "        for j in range(eq):    # Calibration to reach an equilibrium state\n",
    "            rand_spin(current_state, temp)\n",
    "        \n",
    "        for j in range(mc):    # Running multiple Monte-Carlo simulations to find average values for E and M\n",
    "            rand_spin(current_state, temp)\n",
    "            \n",
    "            current_E += E_state(current_state)\n",
    "            current_M += np.sum(current_state)\n",
    "            \n",
    "        E[i] = current_E / (mc * N**2)\n",
    "        M[i] = current_M / (mc * N**2)\n",
    "        \n",
    "    return E, M\n"
   ]
  },
  {
   "cell_type": "code",
   "execution_count": 3,
   "metadata": {},
   "outputs": [
    {
     "name": "stderr",
     "output_type": "stream",
     "text": [
      "<ipython-input-2-e6496153dcc5>:56: MatplotlibDeprecationWarning: shading='flat' when X and Y have the same dimensions as C is deprecated since 3.3.  Either specify the corners of the quadrilaterals with X and Y, or pass shading='auto', 'nearest' or 'gouraud', or set rcParams['pcolor.shading'].  This will become an error two minor releases later.\n",
      "  plt.pcolormesh(x, y, state, cmap=plt.cm.BuGn);\n"
     ]
    },
    {
     "data": {
      "image/png": "[encoded data removed]",
      "text/plain": [
       "<Figure size 1080x1080 with 6 Axes>"
      ]
     },
     "metadata": {},
     "output_type": "display_data"
    },
    {
     "name": "stdout",
     "output_type": "stream",
     "text": [
      "Time taken: 44.466\n"
     ]
    }
   ],
   "source": [
    "time_start = time.time()\n",
    "\n",
    "init_state = spin_init(20, True)\n",
    "ising_spin(init_state, 3001, 1.8)\n",
    "\n",
    "print(\"Time taken:\", round(time.time()-time_start, 3))"
   ]
  },
  {
   "cell_type": "code",
   "execution_count": 7,
   "metadata": {},
   "outputs": [
    {
     "name": "stdout",
     "output_type": "stream",
     "text": [
      "Time taken: 128.205\n"
     ]
    },
    {
     "data": {
      "image/png": "[encoded data removed]",
      "text/plain": [
       "<Figure size 432x288 with 1 Axes>"
      ]
     },
     "metadata": {
      "needs_background": "light"
     },
     "output_type": "display_data"
    },
    {
     "data": {
      "image/png": "[encoded data removed]",
      "text/plain": [
       "<Figure size 432x288 with 1 Axes>"
      ]
     },
     "metadata": {
      "needs_background": "light"
     },
     "output_type": "display_data"
    }
   ],
   "source": [
    "time_start = time.time()\n",
    "\n",
    "init_state = spin_init(10, True)\n",
    "T_array = np.linspace(1.7, 2.7, 50)\n",
    "E_array, M_array = met_spin(init_state, 1000, T_array)\n",
    "\n",
    "print(\"Time taken:\", round(time.time()-time_start, 3))\n",
    "    \n",
    "plt.figure(1)\n",
    "plt.scatter(T_array, E_array)\n",
    "plt.title('Energy')\n",
    "plt.show(1)\n",
    "\n",
    "plt.figure(2)\n",
    "plt.scatter(T_array, abs(M_array))\n",
    "plt.title('Magnetization')\n",
    "plt.show(2)\n"
   ]
  },
  {
   "cell_type": "markdown",
   "metadata": {},
   "source": [
    "We can estimate the Curie temperature to be around T = 2.1, in the simplified units used for this model. At this temperature, we can see that the average value for the magnetization drops from about 1 to approximately 0. This model could be improved greatly if any of the iterative parameters such as N, eq, or mc were increased. In addition, using a greater number of T values closer to the Curie temperature could help with increasing the accuracy in the estimation. "
   ]
  }
 ],
 "metadata": {
  "kernelspec": {
   "display_name": "Python 3",
   "language": "python",
   "name": "python3"
  },
  "language_info": {
   "codemirror_mode": {
    "name": "ipython",
    "version": 3
   },
   "file_extension": ".py",
   "mimetype": "text/x-python",
   "name": "python",
   "nbconvert_exporter": "python",
   "pygments_lexer": "ipython3",
   "version": "3.8.3"
  }
 },
 "nbformat": 4,
 "nbformat_minor": 4
}
