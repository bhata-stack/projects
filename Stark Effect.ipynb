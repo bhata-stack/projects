{
 "cells": [
  {
   "cell_type": "markdown",
   "metadata": {},
   "source": [
    "The bonus problem (for up to 15 points) is: calculate the first order correction to the ground state of the hydrogen atom in the Stark Effect. For full credit, the output should be an animated 3D rendition of the correction wavefunction on which you plot the electronic density as a colormap. All calculations can be performed numerically.\n",
    "\n",
    "The animation can be: (1) as a function of electric field AND/OR (2) as you look at the solution from various angles."
   ]
  },
  {
   "cell_type": "markdown",
   "metadata": {},
   "source": [
    "We can find the perturbed wavefunction as a function of the electric field $\\vec{E} = E\\hat{z}$:\n",
    "\n",
    "$$|\\psi_{1s}\\rangle = |1, 0, 0\\rangle + eE\\sum_{n\\neq 1}|n, l, m\\rangle \\frac{\\langle n, l, m|\\hat{z}|1, 0, 0\\rangle}{E_{1}^{(0)} - E_{n}^{(0)}} + ... $$ \n",
    "\n",
    "Solving out for first order we get the differential equation \n",
    "\n",
    "$$(\\hat{H}_{0} - E_{1s}^{(0)})\\psi_{1s}^{(1)} + (\\hat{V} - E_{1s}^{(1)})\\psi_{1s}^{(0)} = 0 $$\n",
    "\n",
    "We find that $E_{1s}^{(1)} = 0$, and so the equation becomes \n",
    "$$ (\\hat{H}_{0} - E_{1s}^{(0)})\\psi_{1s}^{(1)} + \\hat{V}\\psi_{1s}^{(0)} = 0 $$\n",
    "\n",
    "Since the electric field affects only in the z direction, there is cylindrical symmetry, and so we can state that $\\psi_{1s}^{(1)} = g(r, \\theta)\\psi_{1s}^{(0)}$.\n",
    "\n",
    "Solving out the differential equation gives a final result of $\\psi_{1s}^{(1)} = -q(r + \\frac{r^{2}}{2})\\psi_{1s}^{(0)}$, where $\\psi_{1s}^{(0)} = \\pi^{-1/2}e^{-r}$, and so the final result is $\\psi_{1s}^{(1)} = -\\frac{q}{\\sqrt{\\pi}}(r + \\frac{r^{2}}{2})e^{-r}$.\n"
   ]
  },
  {
   "cell_type": "code",
   "execution_count": 1,
   "metadata": {},
   "outputs": [],
   "source": [
    "# %matplotlib widget\n",
    "from ipywidgets import *\n",
    "import numpy as np\n",
    "import matplotlib.pyplot as plt\n",
    "from matplotlib import cm\n",
    "from mpl_toolkits.mplot3d import Axes3D\n",
    "from ipywidgets import interact, interactive, fixed, interact_manual\n",
    "import ipywidgets as widgets"
   ]
  },
  {
   "cell_type": "code",
   "execution_count": null,
   "metadata": {},
   "outputs": [],
   "source": [
    "def gen_wf(r, theta, n, l, m):\n",
    "    a0 = 5.29177e-11\n",
    "    C = 1/(np.sqrt(np.pi)*(a0**1.5))\n",
    "    if n == 1:\n",
    "        psi = C*np.exp(-r/a0)\n",
    "        return psi\n",
    "    if n == 2 and l == 0:\n",
    "        C_new = (2**(-5/2)) * C\n",
    "        psi = C_new * (2 - r/a0)*np.exp(-r/(2*a0))\n",
    "        return psi\n",
    "    \n",
    "    "
   ]
  }
 ],
 "metadata": {
  "interpreter": {
   "hash": "44c427b66f57772bdc584c69231224670aeb8b66ed9d87efb2c71e0d3f0b948d"
  },
  "kernelspec": {
   "display_name": "Python 3.8.3 ('base')",
   "language": "python",
   "name": "python3"
  },
  "language_info": {
   "codemirror_mode": {
    "name": "ipython",
    "version": 3
   },
   "file_extension": ".py",
   "mimetype": "text/x-python",
   "name": "python",
   "nbconvert_exporter": "python",
   "pygments_lexer": "ipython3",
   "version": "3.8.3"
  },
  "orig_nbformat": 4
 },
 "nbformat": 4,
 "nbformat_minor": 2
}
