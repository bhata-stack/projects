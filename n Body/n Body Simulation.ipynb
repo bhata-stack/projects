{
 "cells": [
  {
   "cell_type": "code",
   "execution_count": 2,
   "metadata": {},
   "outputs": [],
   "source": [
    "import numpy as np\n",
    "import matplotlib.pyplot as plt\n",
    "import matplotlib.animation as anim\n",
    "from mpl_toolkits.mplot3d import Axes3D"
   ]
  },
  {
   "cell_type": "code",
   "execution_count": 20,
   "metadata": {},
   "outputs": [
    {
     "name": "stdout",
     "output_type": "stream",
     "text": [
      "running\n",
      "1000\n",
      "Running sim\n",
      "Frame number: 0\n",
      "Frame number: 0\n",
      "Frame number: 0\n",
      "Frame number: 100\n",
      "Frame number: 200\n",
      "Frame number: 300\n",
      "Frame number: 400\n",
      "Frame number: 500\n",
      "Frame number: 600\n",
      "Frame number: 700\n",
      "Frame number: 800\n",
      "Frame number: 900\n",
      "Frame number: 1000\n",
      "animated successfully\n"
     ]
    },
    {
     "data": {
      "image/png": "[encoded data removed]",
      "text/plain": [
       "<Figure size 432x288 with 1 Axes>"
      ]
     },
     "metadata": {
      "needs_background": "light"
     },
     "output_type": "display_data"
    },
    {
     "data": {
      "image/png": "[encoded data removed]",
      "text/plain": [
       "<Figure size 432x288 with 1 Axes>"
      ]
     },
     "metadata": {
      "needs_background": "light"
     },
     "output_type": "display_data"
    },
    {
     "name": "stdout",
     "output_type": "stream",
     "text": [
      "[3.28601003 4.18735125]\n"
     ]
    }
   ],
   "source": [
    "# Defining a new body class\n",
    "\n",
    "class body:\n",
    "    def __init__(self, name, mass, pos = np.zeros(2), v = np.zeros(2)):\n",
    "        self.name = name\n",
    "        self.mass = mass\n",
    "        self.r = [pos]\n",
    "        self.v = [v]\n",
    "\n",
    "# Calculating the acceleration of a single body\n",
    "\n",
    "def calc_acc(bodies, i):\n",
    "    G = 1 # G = 6.67408e-11 m3 kg-1 s-2\n",
    "    acc = np.zeros(2)\n",
    "    for ind in range(len(bodies)):\n",
    "        if ind != i:\n",
    "            r = bodies[i].r[-1][:] - bodies[ind].r[-1][:]\n",
    "            r_mag = np.linalg.norm(r)\n",
    "            r_mag = np.where(r_mag <= 1e-2, 1e-1, r_mag)\n",
    "            acc += r * G * bodies[ind].mass / r_mag**3\n",
    "    \n",
    "    return acc\n",
    "\n",
    "# Calculate the new position\n",
    "\n",
    "def calc_pos(bodies, time_step = 1e-3):\n",
    "    for i in range(len(bodies)):\n",
    "        acc = calc_acc(bodies, i)\n",
    "\n",
    "        bodies[i].v.append(acc * time_step)\n",
    "        bodies[i].r.append(bodies[i].v[-1][:] * time_step)\n",
    "\n",
    "    return bodies\n",
    "\n",
    "# Generate random bodies\n",
    "\n",
    "def rand_bodies(N):\n",
    "    bodies = []\n",
    "    for i in range(N):\n",
    "        name = 'Particle ' + str(i)\n",
    "        r0 = 5*np.array((np.random.rand(), np.random.rand()))\n",
    "        v0 = np.array((np.random.rand(), np.random.rand()))\n",
    "        b = body(name, 1, r0, v0)\n",
    "        bodies.append(b)\n",
    "    return bodies\n",
    "\n",
    "def run_sim(bodies, t_list, t_step):\n",
    "    print(\"Running sim\")\n",
    "    for t in t_list:\n",
    "        calc_pos(bodies, t_step)\n",
    "\n",
    "    N = len(bodies)\n",
    "\n",
    "    pos = np.zeros((N, len(t_list)+1, 2))\n",
    "    v = np.zeros((N, len(t_list)+1, 2))\n",
    "    for i in range(N):\n",
    "        pos[i][:][:] = bodies[i].r\n",
    "        v[i][:][:] = bodies[i].v\n",
    "    \n",
    "    return pos, v\n",
    "\n",
    "\n",
    "def main():\n",
    "    print(\"running\")\n",
    "\n",
    "    N = 3\n",
    "    time = 100\n",
    "    time_step = 1e-1\n",
    "    t_list = np.arange(0, time, time_step)\n",
    "\n",
    "    print(len(t_list))\n",
    "\n",
    "    bodies = rand_bodies(N)\n",
    "    pos, v = run_sim(bodies, t_list, time_step)\n",
    "\n",
    "    fig = plt.figure(1)\n",
    "    ax = plt.axes(xlim = (-10, 10), ylim = (-10, 10))\n",
    "    ax.set_aspect('equal', 'box')\n",
    "    plt.title('N-Body Trajectories')\n",
    "    plt.xlabel('x')\n",
    "    plt.ylabel('y')\n",
    "\n",
    "    particles = np.array([plt.plot([],[], marker='o')[0] for k in range(N)])\n",
    "    trajectories = np.array([plt.plot([],[], marker='o')[0] for k in range(N)])\n",
    "\n",
    "    def update(t):\n",
    "        for i in range(N):\n",
    "            particles[i].set_data(pos[i][t][:])\n",
    "        if t % 100 == 0:\n",
    "            print(\"Frame number:\", t)\n",
    "        return np.concatenate([particles, trajectories])\n",
    "\n",
    "    animation = anim.FuncAnimation(fig, update, frames=len(t_list)+1, interval = 30, blit = True)\n",
    "    animation.save('n_body.gif', writer='imagemagick', fps=2)\n",
    "\n",
    "    print(\"animated successfully\")\n",
    "\n",
    "    fig1 = plt.figure(2)\n",
    "    ax1 = plt.axes(xlim = (-10, 10), ylim = (-10, 10))\n",
    "    ax1.set_aspect('equal', 'box')\n",
    "    plt.title('N-Body Trajectories')\n",
    "    plt.xlabel('x')\n",
    "    plt.ylabel('y')\n",
    "    for i in range(N):\n",
    "        plt.plot(pos[i][:][0], pos[i][:][1])\n",
    "    plt.show()\n",
    "\n",
    "    print(pos[0][:][0])\n",
    "\n",
    "main()\n"
   ]
  }
 ],
 "metadata": {
  "interpreter": {
   "hash": "44c427b66f57772bdc584c69231224670aeb8b66ed9d87efb2c71e0d3f0b948d"
  },
  "kernelspec": {
   "display_name": "Python 3.8.3 ('base')",
   "language": "python",
   "name": "python3"
  },
  "language_info": {
   "codemirror_mode": {
    "name": "ipython",
    "version": 3
   },
   "file_extension": ".py",
   "mimetype": "text/x-python",
   "name": "python",
   "nbconvert_exporter": "python",
   "pygments_lexer": "ipython3",
   "version": "3.8.3"
  },
  "orig_nbformat": 4
 },
 "nbformat": 4,
 "nbformat_minor": 2
}
